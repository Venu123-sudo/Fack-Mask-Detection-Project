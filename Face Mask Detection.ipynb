{
 "cells": [
  {
   "cell_type": "markdown",
   "metadata": {},
   "source": [
    "# Building a Face Mask Detection Using Tensorflow"
   ]
  },
  {
   "cell_type": "markdown",
   "metadata": {},
   "source": [
    "## Importing the Necessary libraries "
   ]
  },
  {
   "cell_type": "code",
   "execution_count": 16,
   "metadata": {},
   "outputs": [],
   "source": [
    "from tensorflow.keras.preprocessing.image import ImageDataGenerator\n",
    "from tensorflow.keras.applications import MobileNetV2\n",
    "from tensorflow.keras.layers import AveragePooling2D\n",
    "from tensorflow.keras.layers import Dropout\n",
    "from tensorflow.keras.layers import Flatten\n",
    "from tensorflow.keras.layers import Dense\n",
    "from tensorflow.keras.layers import Input\n",
    "from tensorflow.keras.models import Model\n",
    "from tensorflow.keras.optimizers import Adam\n",
    "from tensorflow.keras.applications.mobilenet_v2 import preprocess_input\n",
    "from tensorflow.keras.preprocessing.image import img_to_array\n",
    "from tensorflow.keras.preprocessing.image import load_img\n",
    "from tensorflow.keras.utils import to_categorical\n",
    "from sklearn.preprocessing import LabelBinarizer\n",
    "from sklearn.model_selection import train_test_split\n",
    "from sklearn.metrics import classification_report\n",
    "from imutils import paths\n",
    "import matplotlib.pyplot as plt\n",
    "import numpy as np\n",
    "import os"
   ]
  },
  {
   "cell_type": "markdown",
   "metadata": {},
   "source": [
    "## Let's Do some data Processing to check Insights of data"
   ]
  },
  {
   "cell_type": "code",
   "execution_count": 17,
   "metadata": {},
   "outputs": [],
   "source": [
    "## Lets Initialize the Learning Rate, No of Epochs, and Batch Size\n",
    "\n",
    "INIT_LR = 1e-4\n",
    "EPOCHS = 20\n",
    "BS = 32"
   ]
  },
  {
   "cell_type": "code",
   "execution_count": 18,
   "metadata": {},
   "outputs": [],
   "source": [
    "## Create a Directory of the Dataset and Required Categories\n",
    "\n",
    "DIRECTORY = r\"C:\\Users\\Venu\\Face Mask Detection using OpenCV and Keras(tensorflow)\\dataset\"\n",
    "CATEGORIES = [\"with_mask\", \"without_mask\"]"
   ]
  },
  {
   "cell_type": "code",
   "execution_count": 19,
   "metadata": {},
   "outputs": [
    {
     "name": "stdout",
     "output_type": "stream",
     "text": [
      "[INFO] loading images...\n"
     ]
    }
   ],
   "source": [
    "## Grab the list of images in the dataset Directory and then initialize the list of data\n",
    "print(\"[INFO] loading images...\")"
   ]
  },
  {
   "cell_type": "code",
   "execution_count": 20,
   "metadata": {},
   "outputs": [
    {
     "name": "stderr",
     "output_type": "stream",
     "text": [
      "C:\\Users\\Venu\\Anaconda3\\lib\\site-packages\\PIL\\Image.py:989: UserWarning: Palette images with Transparency expressed in bytes should be converted to RGBA images\n",
      "  \"Palette images with Transparency expressed in bytes should be \"\n"
     ]
    }
   ],
   "source": [
    "## Creating the Empty list of data and Class images\n",
    "data = []\n",
    "\n",
    "## Here labels gonna be with mask and without mask\n",
    "labels = []\n",
    "\n",
    "## Applying the loop function to the CATEGORIES i.e., With mask and Without Mask of each Image\n",
    "\n",
    "for category in CATEGORIES:\n",
    "    path = os.path.join(DIRECTORY, category)\n",
    "    for img in os.listdir(path):\n",
    "        img_path = os.path.join(path, img)\n",
    "        image = load_img(img_path, target_size=(224, 224))\n",
    "        image = img_to_array(image)\n",
    "        image = preprocess_input(image)\n",
    "\n",
    "        data.append(image)\n",
    "        labels.append(category)"
   ]
  },
  {
   "cell_type": "code",
   "execution_count": 21,
   "metadata": {},
   "outputs": [],
   "source": [
    "# perform one-hot encoding on the labels to convert them to Numerical values(i.e, 0 or 1.)\n",
    "lb = LabelBinarizer()\n",
    "labels = lb.fit_transform(labels)\n",
    "labels = to_categorical(labels)"
   ]
  },
  {
   "cell_type": "code",
   "execution_count": 22,
   "metadata": {},
   "outputs": [],
   "source": [
    "## Converting the list of  data and labels to a array without changing them to array \n",
    "# we cannot built deep neural model \n",
    "\n",
    "data = np.array(data, dtype=\"float32\")\n",
    "labels = np.array(labels)"
   ]
  },
  {
   "cell_type": "code",
   "execution_count": 23,
   "metadata": {},
   "outputs": [],
   "source": [
    "## Now we split the data into train and test sets on the given dataset\n",
    "\n",
    "x_train, x_test, y_train, y_test  = train_test_split(data, labels, test_size=0.20,random_state=42)\n"
   ]
  },
  {
   "cell_type": "code",
   "execution_count": 24,
   "metadata": {},
   "outputs": [],
   "source": [
    "## Construct the training Image generator for Data Augmentation\n",
    "\n",
    "aug = ImageDataGenerator(\n",
    "    rotation_range=20,\n",
    "    zoom_range=0.15,\n",
    "    width_shift_range=0.2,\n",
    "    height_shift_range=0.2,\n",
    "    shear_range=0.15,\n",
    "    horizontal_flip=True,\n",
    "    fill_mode=\"nearest\")"
   ]
  },
  {
   "cell_type": "markdown",
   "metadata": {},
   "source": [
    "## Building a MobileNetV2 Model to check the accuracy of a model"
   ]
  },
  {
   "cell_type": "code",
   "execution_count": 25,
   "metadata": {},
   "outputs": [
    {
     "name": "stderr",
     "output_type": "stream",
     "text": [
      "C:\\Users\\Venu\\Anaconda3\\lib\\site-packages\\keras_applications\\mobilenet_v2.py:294: UserWarning: `input_shape` is undefined or non-square, or `rows` is not in [96, 128, 160, 192, 224]. Weights for input shape (224, 224) will be loaded as the default.\n",
      "  warnings.warn('`input_shape` is undefined or non-square, '\n"
     ]
    },
    {
     "name": "stdout",
     "output_type": "stream",
     "text": [
      "WARNING:tensorflow:From C:\\Users\\Venu\\Anaconda3\\lib\\site-packages\\tensorflow_core\\python\\ops\\resource_variable_ops.py:1630: calling BaseResourceVariable.__init__ (from tensorflow.python.ops.resource_variable_ops) with constraint is deprecated and will be removed in a future version.\n",
      "Instructions for updating:\n",
      "If using Keras pass *_constraint arguments to layers.\n"
     ]
    }
   ],
   "source": [
    "## load the MobileNetV2 network, ensuring the head FC layer sets are left off\n",
    "\n",
    "baseModel = MobileNetV2(weights=\"imagenet\", include_top=False, input_tensor=Input(shape=(224, 224, 3)))"
   ]
  },
  {
   "cell_type": "code",
   "execution_count": 26,
   "metadata": {},
   "outputs": [],
   "source": [
    "# Construct the head of the model that will be placed on top of the base model\n",
    "\n",
    "headModel = baseModel.output\n",
    "headModel = AveragePooling2D(pool_size=(7, 7))(headModel)\n",
    "headModel = Flatten(name=\"flatten\")(headModel)\n",
    "headModel = Dense(128, activation=\"relu\")(headModel)\n",
    "headModel = Dropout(0.5)(headModel)\n",
    "headModel = Dense(2, activation=\"softmax\")(headModel)"
   ]
  },
  {
   "cell_type": "code",
   "execution_count": 27,
   "metadata": {},
   "outputs": [],
   "source": [
    "## Build a Fully connected model on the top of base model(this will become actual model to train)\n",
    "\n",
    "model = Model(inputs=baseModel.input, outputs=headModel)"
   ]
  },
  {
   "cell_type": "code",
   "execution_count": 28,
   "metadata": {},
   "outputs": [
    {
     "name": "stdout",
     "output_type": "stream",
     "text": [
      "[INFO] compiling model...\n"
     ]
    }
   ],
   "source": [
    "# loop over all layers in the base model and freeze them so they will not be updated during the first training process\n",
    "\n",
    "for layer in baseModel.layers:\n",
    "    layer.trainable = False\n",
    "    \n",
    "## Compiling the lodel\n",
    "print(\"[INFO] compiling model...\")\n",
    "opt = Adam(lr=INIT_LR, decay=INIT_LR / EPOCHS)\n",
    "model.compile(loss=\"binary_crossentropy\", optimizer=opt,\n",
    "    metrics=[\"accuracy\"])"
   ]
  },
  {
   "cell_type": "code",
   "execution_count": 29,
   "metadata": {},
   "outputs": [
    {
     "name": "stdout",
     "output_type": "stream",
     "text": [
      "[INFO] training head...\n",
      "Epoch 1/20\n",
      "WARNING:tensorflow:From C:\\Users\\Venu\\Anaconda3\\lib\\site-packages\\tensorflow_core\\python\\ops\\math_grad.py:1424: where (from tensorflow.python.ops.array_ops) is deprecated and will be removed in a future version.\n",
      "Instructions for updating:\n",
      "Use tf.where in 2.0, which has the same broadcast rule as np.where\n",
      "94/95 [============================>.] - ETA: 2s - loss: 0.5355 - acc: 0.7368Epoch 1/20\n",
      "767/95 [==================================================================================================================================================================================================================================================] - 57s 74ms/sample - loss: 0.5218 - acc: 0.7901\n",
      "95/95 [==============================] - 326s 3s/step - loss: 0.5336 - acc: 0.7383 - val_loss: 0.4609 - val_acc: 0.7901\n",
      "Epoch 2/20\n",
      "94/95 [============================>.] - ETA: 2s - loss: 0.3040 - acc: 0.8757Epoch 1/20\n",
      "767/95 [==================================================================================================================================================================================================================================================] - 54s 71ms/sample - loss: 0.4594 - acc: 0.8201\n",
      "95/95 [==============================] - 291s 3s/step - loss: 0.3048 - acc: 0.8754 - val_loss: 0.4046 - val_acc: 0.8201\n",
      "Epoch 3/20\n",
      "94/95 [============================>.] - ETA: 2s - loss: 0.2276 - acc: 0.9147Epoch 1/20\n",
      "767/95 [==================================================================================================================================================================================================================================================] - 84s 109ms/sample - loss: 0.4877 - acc: 0.8344\n",
      "95/95 [==============================] - 324s 3s/step - loss: 0.2271 - acc: 0.9146 - val_loss: 0.4245 - val_acc: 0.8344\n",
      "Epoch 4/20\n",
      "94/95 [============================>.] - ETA: 3s - loss: 0.1901 - acc: 0.9317Epoch 1/20\n",
      "767/95 [==================================================================================================================================================================================================================================================] - 69s 90ms/sample - loss: 0.5930 - acc: 0.8083\n",
      "95/95 [==============================] - 387s 4s/step - loss: 0.1891 - acc: 0.9318 - val_loss: 0.5223 - val_acc: 0.8083\n",
      "Epoch 5/20\n",
      "94/95 [============================>.] - ETA: 2s - loss: 0.1788 - acc: 0.9310Epoch 1/20\n",
      "767/95 [==================================================================================================================================================================================================================================================] - 60s 79ms/sample - loss: 0.5301 - acc: 0.8435\n",
      "95/95 [==============================] - 307s 3s/step - loss: 0.1794 - acc: 0.9311 - val_loss: 0.4546 - val_acc: 0.8435\n",
      "Epoch 6/20\n",
      "94/95 [============================>.] - ETA: 2s - loss: 0.1544 - acc: 0.9447Epoch 1/20\n",
      "767/95 [==================================================================================================================================================================================================================================================] - 57s 75ms/sample - loss: 0.4985 - acc: 0.8631\n",
      "95/95 [==============================] - 331s 3s/step - loss: 0.1533 - acc: 0.9453 - val_loss: 0.4152 - val_acc: 0.8631\n",
      "Epoch 7/20\n",
      "94/95 [============================>.] - ETA: 2s - loss: 0.1532 - acc: 0.9450Epoch 1/20\n",
      "767/95 [==================================================================================================================================================================================================================================================] - 60s 78ms/sample - loss: 0.4633 - acc: 0.8722\n",
      "95/95 [==============================] - 316s 3s/step - loss: 0.1539 - acc: 0.9443 - val_loss: 0.3830 - val_acc: 0.8722\n",
      "Epoch 8/20\n",
      "94/95 [============================>.] - ETA: 2s - loss: 0.1287 - acc: 0.9548Epoch 1/20\n",
      "767/95 [==================================================================================================================================================================================================================================================] - 61s 80ms/sample - loss: 0.3035 - acc: 0.9140\n",
      "95/95 [==============================] - 321s 3s/step - loss: 0.1290 - acc: 0.9546 - val_loss: 0.2329 - val_acc: 0.9140\n",
      "Epoch 9/20\n",
      "94/95 [============================>.] - ETA: 2s - loss: 0.1261 - acc: 0.9539Epoch 1/20\n",
      "767/95 [==================================================================================================================================================================================================================================================] - 66s 87ms/sample - loss: 0.4500 - acc: 0.8787\n",
      "95/95 [==============================] - 320s 3s/step - loss: 0.1253 - acc: 0.9544 - val_loss: 0.3596 - val_acc: 0.8787\n",
      "Epoch 10/20\n",
      "94/95 [============================>.] - ETA: 2s - loss: 0.1261 - acc: 0.9534Epoch 1/20\n",
      "767/95 [==================================================================================================================================================================================================================================================] - 62s 81ms/sample - loss: 0.4150 - acc: 0.8944\n",
      "95/95 [==============================] - 315s 3s/step - loss: 0.1255 - acc: 0.9535 - val_loss: 0.3200 - val_acc: 0.8944\n",
      "Epoch 11/20\n",
      "94/95 [============================>.] - ETA: 2s - loss: 0.1097 - acc: 0.9587Epoch 1/20\n",
      "767/95 [==================================================================================================================================================================================================================================================] - 63s 82ms/sample - loss: 0.5014 - acc: 0.8735\n",
      "95/95 [==============================] - 319s 3s/step - loss: 0.1094 - acc: 0.9588 - val_loss: 0.3973 - val_acc: 0.8735\n",
      "Epoch 12/20\n",
      "94/95 [============================>.] - ETA: 2s - loss: 0.1115 - acc: 0.9604Epoch 1/20\n",
      "767/95 [==================================================================================================================================================================================================================================================] - 59s 77ms/sample - loss: 0.4319 - acc: 0.8944\n",
      "95/95 [==============================] - 324s 3s/step - loss: 0.1107 - acc: 0.9608 - val_loss: 0.3259 - val_acc: 0.8944\n",
      "Epoch 13/20\n",
      "94/95 [============================>.] - ETA: 2s - loss: 0.1140 - acc: 0.9590Epoch 1/20\n",
      "767/95 [==================================================================================================================================================================================================================================================] - 59s 77ms/sample - loss: 0.3376 - acc: 0.9270\n",
      "95/95 [==============================] - 324s 3s/step - loss: 0.1142 - acc: 0.9588 - val_loss: 0.2420 - val_acc: 0.9270\n",
      "Epoch 14/20\n",
      "94/95 [============================>.] - ETA: 2s - loss: 0.1129 - acc: 0.9587Epoch 1/20\n",
      "767/95 [==================================================================================================================================================================================================================================================] - 63s 82ms/sample - loss: 0.4056 - acc: 0.8983\n",
      "95/95 [==============================] - 324s 3s/step - loss: 0.1128 - acc: 0.9588 - val_loss: 0.3074 - val_acc: 0.8983\n",
      "Epoch 15/20\n",
      "94/95 [============================>.] - ETA: 2s - loss: 0.1066 - acc: 0.9634Epoch 1/20\n",
      "767/95 [==================================================================================================================================================================================================================================================] - 62s 80ms/sample - loss: 0.4382 - acc: 0.8944\n",
      "95/95 [==============================] - 342s 4s/step - loss: 0.1057 - acc: 0.9637 - val_loss: 0.3328 - val_acc: 0.8944\n",
      "Epoch 16/20\n"
     ]
    },
    {
     "name": "stdout",
     "output_type": "stream",
     "text": [
      "94/95 [============================>.] - ETA: 2s - loss: 0.1018 - acc: 0.9614Epoch 1/20\n",
      "767/95 [==================================================================================================================================================================================================================================================] - 62s 80ms/sample - loss: 0.4501 - acc: 0.8918\n",
      "95/95 [==============================] - 326s 3s/step - loss: 0.1011 - acc: 0.9618 - val_loss: 0.3432 - val_acc: 0.8918\n",
      "Epoch 17/20\n",
      "94/95 [============================>.] - ETA: 2s - loss: 0.0872 - acc: 0.9696Epoch 1/20\n",
      "767/95 [==================================================================================================================================================================================================================================================] - 63s 82ms/sample - loss: 0.5283 - acc: 0.8840\n",
      "95/95 [==============================] - 325s 3s/step - loss: 0.0869 - acc: 0.9696 - val_loss: 0.4018 - val_acc: 0.8840\n",
      "Epoch 18/20\n",
      "94/95 [============================>.] - ETA: 2s - loss: 0.0958 - acc: 0.9644Epoch 1/20\n",
      "767/95 [==================================================================================================================================================================================================================================================] - 61s 79ms/sample - loss: 0.4428 - acc: 0.8983\n",
      "95/95 [==============================] - 328s 3s/step - loss: 0.0955 - acc: 0.9644 - val_loss: 0.3273 - val_acc: 0.8983\n",
      "Epoch 19/20\n",
      "94/95 [============================>.] - ETA: 2s - loss: 0.0903 - acc: 0.9690Epoch 1/20\n",
      "767/95 [==================================================================================================================================================================================================================================================] - 63s 83ms/sample - loss: 0.5136 - acc: 0.8918\n",
      "95/95 [==============================] - 322s 3s/step - loss: 0.0901 - acc: 0.9693 - val_loss: 0.3794 - val_acc: 0.8918\n",
      "Epoch 20/20\n",
      "94/95 [============================>.] - ETA: 2s - loss: 0.0869 - acc: 0.9704Epoch 1/20\n",
      "767/95 [==================================================================================================================================================================================================================================================] - 78s 101ms/sample - loss: 0.5719 - acc: 0.8840\n",
      "95/95 [==============================] - 333s 4s/step - loss: 0.0868 - acc: 0.9703 - val_loss: 0.4199 - val_acc: 0.8840\n"
     ]
    }
   ],
   "source": [
    "# train the head of the network\n",
    "\n",
    "print(\"[INFO] training head...\")\n",
    "H = model.fit(\n",
    "    aug.flow(x_train, y_train, batch_size=BS),\n",
    "    steps_per_epoch=len(x_train) // BS,\n",
    "    validation_data=(x_test, y_test),\n",
    "    validation_steps=len(x_test) // BS,\n",
    "    epochs=EPOCHS)"
   ]
  },
  {
   "cell_type": "code",
   "execution_count": 30,
   "metadata": {},
   "outputs": [
    {
     "name": "stdout",
     "output_type": "stream",
     "text": [
      "[INFO] evaluating network...\n"
     ]
    }
   ],
   "source": [
    "# Make predictions on the testing set\n",
    "\n",
    "print(\"[INFO] evaluating network...\")\n",
    "predIdxs = model.predict(x_test, batch_size=BS)"
   ]
  },
  {
   "cell_type": "code",
   "execution_count": 31,
   "metadata": {},
   "outputs": [],
   "source": [
    "# for each image in the testing set we need to find the index of the label \n",
    "# with corresponding largest predicted probability\n",
    "\n",
    "predIdxs = np.argmax(predIdxs, axis=1)"
   ]
  },
  {
   "cell_type": "code",
   "execution_count": 32,
   "metadata": {},
   "outputs": [
    {
     "name": "stdout",
     "output_type": "stream",
     "text": [
      "              precision    recall  f1-score   support\n",
      "\n",
      "   with_mask       0.99      0.79      0.88       406\n",
      "without_mask       0.80      0.99      0.89       361\n",
      "\n",
      "    accuracy                           0.88       767\n",
      "   macro avg       0.90      0.89      0.88       767\n",
      "weighted avg       0.90      0.88      0.88       767\n",
      "\n"
     ]
    }
   ],
   "source": [
    "# Showing the nicely formatted classification report\n",
    "\n",
    "print(classification_report(y_test.argmax(axis=1), predIdxs, target_names=lb.classes_))"
   ]
  },
  {
   "cell_type": "code",
   "execution_count": 33,
   "metadata": {},
   "outputs": [
    {
     "name": "stdout",
     "output_type": "stream",
     "text": [
      "[INFO] saving mask detector model...\n"
     ]
    }
   ],
   "source": [
    "# serialize the model to disk\n",
    "print(\"[INFO] saving mask detector model...\")\n",
    "model.save(\"Mask_detector.model\", save_format=\"h5\")"
   ]
  },
  {
   "cell_type": "code",
   "execution_count": 34,
   "metadata": {},
   "outputs": [
    {
     "name": "stdout",
     "output_type": "stream",
     "text": [
      "dict_keys(['loss', 'acc', 'val_loss', 'val_acc'])\n"
     ]
    }
   ],
   "source": [
    "print(H.history.keys())"
   ]
  },
  {
   "cell_type": "code",
   "execution_count": 35,
   "metadata": {},
   "outputs": [
    {
     "data": {
      "image/png": "[encoded data removed]",
      "text/plain": [
       "<Figure size 720x360 with 1 Axes>"
      ]
     },
     "metadata": {},
     "output_type": "display_data"
    }
   ],
   "source": [
    "## Lets summarize the history of Accuracy and Loss\n",
    "N = EPOCHS\n",
    "plt.style.use(\"ggplot\")\n",
    "plt.figure(figsize=(10,5))\n",
    "plt.plot(np.arange(0, N), H.history[\"loss\"], label=\"train_loss\")\n",
    "plt.plot(np.arange(0, N), H.history[\"val_loss\"], label=\"val_loss\")\n",
    "plt.plot(np.arange(0, N), H.history[\"acc\"], label=\"train_acc\")\n",
    "plt.plot(np.arange(0, N), H.history[\"val_acc\"], label=\"val_acc\")\n",
    "plt.title(\"Training Loss and Accuracy\")\n",
    "plt.xlabel(\"Epoch #\")\n",
    "plt.ylabel(\"Loss/Accuracy\")\n",
    "plt.legend(loc=\"lower left\")\n",
    "plt.savefig(\"plot.png\")"
   ]
  },
  {
   "cell_type": "code",
   "execution_count": null,
   "metadata": {},
   "outputs": [],
   "source": []
  }
 ],
 "metadata": {
  "kernelspec": {
   "display_name": "Python 3",
   "language": "python",
   "name": "python3"
  },
  "language_info": {
   "codemirror_mode": {
    "name": "ipython",
    "version": 3
   },
   "file_extension": ".py",
   "mimetype": "text/x-python",
   "name": "python",
   "nbconvert_exporter": "python",
   "pygments_lexer": "ipython3",
   "version": "3.7.4"
  }
 },
 "nbformat": 4,
 "nbformat_minor": 2
}
